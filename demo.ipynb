{
 "cells": [
  {
   "cell_type": "code",
   "execution_count": 2,
   "metadata": {},
   "outputs": [],
   "source": [
    "import torch"
   ]
  },
  {
   "cell_type": "code",
   "execution_count": 13,
   "metadata": {},
   "outputs": [
    {
     "name": "stdout",
     "output_type": "stream",
     "text": [
      "tensor([[9.2755e-39, 8.9082e-39, 9.9184e-39],\n",
      "        [8.4490e-39, 9.6429e-39, 1.0653e-38],\n",
      "        [1.0469e-38, 4.2246e-39, 1.0378e-38],\n",
      "        [9.6429e-39, 9.2755e-39, 9.7346e-39],\n",
      "        [1.0745e-38, 1.0102e-38, 9.9184e-39]])\n"
     ]
    }
   ],
   "source": [
    "x = torch.empty(5, 3)\n",
    "print(x)"
   ]
  },
  {
   "cell_type": "code",
   "execution_count": 4,
   "metadata": {},
   "outputs": [
    {
     "name": "stdout",
     "output_type": "stream",
     "text": [
      "tensor([[0.9627, 0.2014, 0.6086],\n",
      "        [0.5028, 0.3938, 0.5051],\n",
      "        [0.7652, 0.5573, 0.9104],\n",
      "        [0.5029, 0.9862, 0.8268],\n",
      "        [0.9558, 0.1443, 0.8828]])\n"
     ]
    }
   ],
   "source": [
    "x = torch.rand(5, 3)\n",
    "print(x)"
   ]
  },
  {
   "cell_type": "code",
   "execution_count": 5,
   "metadata": {},
   "outputs": [
    {
     "name": "stdout",
     "output_type": "stream",
     "text": [
      "tensor([[0, 0, 0],\n",
      "        [0, 0, 0],\n",
      "        [0, 0, 0],\n",
      "        [0, 0, 0],\n",
      "        [0, 0, 0]])\n"
     ]
    }
   ],
   "source": [
    "x = torch.zeros(5, 3, dtype=torch.long)\n",
    "print(x)"
   ]
  },
  {
   "cell_type": "code",
   "execution_count": 6,
   "metadata": {},
   "outputs": [
    {
     "name": "stdout",
     "output_type": "stream",
     "text": [
      "tensor([5.5000, 3.0000])\n"
     ]
    }
   ],
   "source": [
    "x = torch.tensor([5.5, 3])\n",
    "print(x)"
   ]
  },
  {
   "cell_type": "code",
   "execution_count": 7,
   "metadata": {},
   "outputs": [
    {
     "name": "stdout",
     "output_type": "stream",
     "text": [
      "1.7.1\n",
      "True\n",
      "cpu 0.15855002403259277 tensor(141040.8281)\n",
      "cuda:0 0.744037389755249 tensor(141444.6875, device='cuda:0')\n",
      "cuda:0 0.005983829498291016 tensor(141444.6875, device='cuda:0')\n"
     ]
    }
   ],
   "source": [
    "import torch\n",
    "import time\n",
    "\n",
    "print(torch.__version__)        # 返回pytorch的版本\n",
    "print(torch.cuda.is_available())        # 当CUDA可用时返回True\n",
    "\n",
    "a = torch.randn(10000, 1000)    # 返回10000行1000列的张量矩阵\n",
    "b = torch.randn(1000, 2000)     # 返回1000行2000列的张量矩阵\n",
    "\n",
    "t0 = time.time()        # 记录时间\n",
    "c = torch.matmul(a, b)      # 矩阵乘法运算\n",
    "t1 = time.time()        # 记录时间\n",
    "print(a.device, t1 - t0, c.norm(2))     # c.norm(2)表示矩阵c的二范数\n",
    "\n",
    "device = torch.device('cuda')       # 用GPU来运行\n",
    "a = a.to(device)\n",
    "b = b.to(device)\n",
    "\n",
    "# 初次调用GPU，需要数据传送，因此比较慢\n",
    "t0 = time.time()\n",
    "c = torch.matmul(a, b)\n",
    "t2 = time.time()\n",
    "print(a.device, t2 - t0, c.norm(2))\n",
    "\n",
    "# 这才是GPU处理数据的真实运行时间，当数据量越大，GPU的优势越明显\n",
    "t0 = time.time()\n",
    "c = torch.matmul(a, b)\n",
    "t2 = time.time()\n",
    "print(a.device, t2 - t0, c.norm(2))\n"
   ]
  },
  {
   "cell_type": "code",
   "execution_count": 20,
   "metadata": {},
   "outputs": [
    {
     "name": "stdout",
     "output_type": "stream",
     "text": [
      "tensor([[1., 1., 1.],\n",
      "        [1., 1., 1.],\n",
      "        [1., 1., 1.],\n",
      "        [1., 1., 1.],\n",
      "        [1., 1., 1.]], dtype=torch.float64)\n",
      "tensor([[-1.1782, -0.9524, -0.7537],\n",
      "        [ 1.8813,  0.2459, -0.1455],\n",
      "        [-1.1757,  0.6135,  0.1754],\n",
      "        [-1.0088, -1.8118,  0.2841],\n",
      "        [-1.8696, -0.8414, -0.8786]])\n"
     ]
    }
   ],
   "source": [
    "x = x.new_ones(5, 3, dtype=torch.float64) # 􁬬􀢧􁌱tensor􁼕􁦊torch.dtype􀞾torch.device􀙍􀹍􁍘􀝶􁌱\n",
    "\n",
    "print(x)\n",
    "x = torch.randn_like(x, dtype=torch.float) # 􀳰􀨧􀷛􁌱􀷄􀴝􁔄􀣳\n",
    "print(x)"
   ]
  },
  {
   "cell_type": "code",
   "execution_count": 21,
   "metadata": {},
   "outputs": [
    {
     "name": "stdout",
     "output_type": "stream",
     "text": [
      "torch.Size([5, 3])\n",
      "torch.Size([5, 3])\n"
     ]
    }
   ],
   "source": [
    "print(x.size())\n",
    "print(x.shape)"
   ]
  },
  {
   "cell_type": "code",
   "execution_count": 26,
   "metadata": {},
   "outputs": [
    {
     "name": "stdout",
     "output_type": "stream",
     "text": [
      "tensor([[ 1.8218,  2.0476,  2.2463],\n",
      "        [ 1.8813,  0.2459, -0.1455],\n",
      "        [-1.1757,  0.6135,  0.1754],\n",
      "        [-1.0088, -1.8118,  0.2841],\n",
      "        [-1.8696, -0.8414, -0.8786]])\n",
      "tensor([[0.7332, 0.1354, 0.1795],\n",
      "        [0.3780, 0.4696, 0.6099],\n",
      "        [0.0035, 0.1941, 0.2777],\n",
      "        [0.3315, 0.9031, 0.6155],\n",
      "        [0.8316, 0.7169, 0.1617]])\n",
      "tensor([[ 2.5549,  2.1830,  2.4258],\n",
      "        [ 2.2593,  0.7155,  0.4644],\n",
      "        [-1.1722,  0.8076,  0.4530],\n",
      "        [-0.6774, -0.9087,  0.8996],\n",
      "        [-1.0380, -0.1245, -0.7169]])\n"
     ]
    }
   ],
   "source": [
    "y = torch.rand(5, 3)\n",
    "print(x)\n",
    "print(y)\n",
    "print(x + y)"
   ]
  },
  {
   "cell_type": "code",
   "execution_count": 27,
   "metadata": {},
   "outputs": [
    {
     "name": "stdout",
     "output_type": "stream",
     "text": [
      "tensor([2.8218, 3.0476, 3.2463])\n",
      "tensor([2.8218, 3.0476, 3.2463])\n",
      "tensor([[ 2.8218,  3.0476,  3.2463],\n",
      "        [ 1.8813,  0.2459, -0.1455],\n",
      "        [-1.1757,  0.6135,  0.1754],\n",
      "        [-1.0088, -1.8118,  0.2841],\n",
      "        [-1.8696, -0.8414, -0.8786]])\n"
     ]
    }
   ],
   "source": [
    "y = x[0, :]\n",
    "y += 1\n",
    "print(y)\n",
    "print(x[0,:])\n",
    "print(x)"
   ]
  },
  {
   "cell_type": "code",
   "execution_count": 31,
   "metadata": {},
   "outputs": [
    {
     "name": "stdout",
     "output_type": "stream",
     "text": [
      "torch.Size([5, 3]) torch.Size([15]) torch.Size([3, 5])\n",
      "tensor([[ 2.8218,  3.0476,  3.2463],\n",
      "        [ 1.8813,  0.2459, -0.1455],\n",
      "        [-1.1757,  0.6135,  0.1754],\n",
      "        [-1.0088, -1.8118,  0.2841],\n",
      "        [-1.8696, -0.8414, -0.8786]])\n",
      "tensor([ 2.8218,  3.0476,  3.2463,  1.8813,  0.2459, -0.1455, -1.1757,  0.6135,\n",
      "         0.1754, -1.0088, -1.8118,  0.2841, -1.8696, -0.8414, -0.8786])\n",
      "tensor([[ 2.8218,  3.0476,  3.2463,  1.8813,  0.2459],\n",
      "        [-0.1455, -1.1757,  0.6135,  0.1754, -1.0088],\n",
      "        [-1.8118,  0.2841, -1.8696, -0.8414, -0.8786]])\n"
     ]
    }
   ],
   "source": [
    "y = x.view(15)\n",
    "z = x.view(-1, 5) # -1􀲅􀳰􁌱􁖌􀬶􀝢􀕦􀻑􀴝􀙌􀕜􁖌􀬶􁌱􊧊􀴵􀚊􀹶\n",
    "print(x.size(), y.size(), z.size())\n",
    "print(x)\n",
    "print(y)\n",
    "print(z)"
   ]
  }
 ],
 "metadata": {
  "kernelspec": {
   "display_name": "Python 3",
   "language": "python",
   "name": "python3"
  },
  "language_info": {
   "codemirror_mode": {
    "name": "ipython",
    "version": 3
   },
   "file_extension": ".py",
   "mimetype": "text/x-python",
   "name": "python",
   "nbconvert_exporter": "python",
   "pygments_lexer": "ipython3",
   "version": "3.8.5"
  }
 },
 "nbformat": 4,
 "nbformat_minor": 5
}
